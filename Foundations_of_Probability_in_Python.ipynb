{
  "nbformat": 4,
  "nbformat_minor": 0,
  "metadata": {
    "colab": {
      "name": "Foundations of Probability in Python.ipynb",
      "provenance": []
    },
    "kernelspec": {
      "name": "python3",
      "display_name": "Python 3"
    }
  },
  "cells": [
    {
      "cell_type": "markdown",
      "metadata": {
        "id": "VAg4uOutDbeJ"
      },
      "source": [
        "**Bernoulli & Binomial with Scipy.stats**"
      ]
    },
    {
      "cell_type": "code",
      "metadata": {
        "colab": {
          "base_uri": "https://localhost:8080/"
        },
        "id": "7o3R0lYOoVup",
        "outputId": "359d7e16-7abd-4773-e22b-978970646467"
      },
      "source": [
        "# Import the bernoulli object from scipy.stats\r\n",
        "from scipy.stats import bernoulli\r\n",
        "import numpy as np \r\n",
        "\r\n",
        "# Set the random seed to reproduce the results\r\n",
        "np.random.seed(42)\r\n",
        "\r\n",
        "# Simulate one coin flip with 35% chance of getting heads\r\n",
        "coin_flip = bernoulli.rvs(p=0.35, size=1)\r\n",
        "print(coin_flip)"
      ],
      "execution_count": 1,
      "outputs": [
        {
          "output_type": "stream",
          "text": [
            "[1]\n"
          ],
          "name": "stdout"
        }
      ]
    },
    {
      "cell_type": "code",
      "metadata": {
        "colab": {
          "base_uri": "https://localhost:8080/"
        },
        "id": "DSU9ucQwo05K",
        "outputId": "d087c544-98f4-4ab3-b4c4-9af6cb92131b"
      },
      "source": [
        "# Import the bernoulli object from scipy.stats\r\n",
        "from scipy.stats import bernoulli\r\n",
        "\r\n",
        "# Set the random seed to reproduce the results\r\n",
        "np.random.seed(42)\r\n",
        "\r\n",
        "# Simulate ten coin flips and get the number of heads\r\n",
        "ten_coin_flips = bernoulli.rvs(p=0.35, size=10)\r\n",
        "coin_flips_sum = sum(ten_coin_flips)\r\n",
        "\r\n",
        "print(coin_flips_sum)\r\n"
      ],
      "execution_count": 2,
      "outputs": [
        {
          "output_type": "stream",
          "text": [
            "4\n"
          ],
          "name": "stdout"
        }
      ]
    },
    {
      "cell_type": "code",
      "metadata": {
        "colab": {
          "base_uri": "https://localhost:8080/"
        },
        "id": "-35nl7Fbpa04",
        "outputId": "806061dd-19d7-4cf3-a562-819cd28019ba"
      },
      "source": [
        "from scipy.stats import binom\r\n",
        "# Set the random seed to reproduce the results\r\n",
        "np.random.seed(42)\r\n",
        "\r\n",
        "# Simulate 20 trials of 10 coin flips \r\n",
        "draws = binom.rvs(n=10, p=0.35, size=20)\r\n",
        "print(draws)\r\n",
        "print(np.mean(draws))"
      ],
      "execution_count": 7,
      "outputs": [
        {
          "output_type": "stream",
          "text": [
            "[3 6 4 4 2 2 1 5 4 4 1 6 5 2 2 2 3 4 3 3]\n",
            "3.3\n"
          ],
          "name": "stdout"
        }
      ]
    },
    {
      "cell_type": "code",
      "metadata": {
        "colab": {
          "base_uri": "https://localhost:8080/"
        },
        "id": "GVNmHSL2pg5q",
        "outputId": "3843966f-3a01-4ad0-a012-16a6c6a2ba61"
      },
      "source": [
        "temp = []\r\n",
        "np.random.seed(42)\r\n",
        "\r\n",
        "for x in range(20):\r\n",
        "  ten_coin_flips = bernoulli.rvs(p=0.35, size=10)\r\n",
        "  coin_flips_sum = sum(ten_coin_flips)\r\n",
        "  temp.append(coin_flips_sum)\r\n",
        "print(temp)\r\n",
        "print(np.mean(temp))"
      ],
      "execution_count": 8,
      "outputs": [
        {
          "output_type": "stream",
          "text": [
            "[4, 2, 1, 4, 2, 5, 3, 5, 3, 3, 2, 5, 4, 3, 1, 5, 1, 3, 4, 6]\n",
            "3.3\n"
          ],
          "name": "stdout"
        }
      ]
    },
    {
      "cell_type": "code",
      "metadata": {
        "colab": {
          "base_uri": "https://localhost:8080/"
        },
        "id": "uN7KSv59qRsJ",
        "outputId": "c6b1b56a-2fab-4704-c3cf-11223cb729c1"
      },
      "source": [
        "#PMF, probability of getting k heads from n coin flips with p probability , \r\n",
        "#CDF, range of probability at <=k\r\n",
        "#binom.pmf(k, n, p )calculates the probability of having exactly k heads out of n coin flips.\r\n",
        "#binom.cdf() calculates the probability of having k heads or less out of n coin flips.\r\n",
        "#binom.sf() calculates the probability of having more than k heads out of n coin flips.\r\n",
        "\r\n",
        "# Probability of getting exactly 1 defective component\r\n",
        "prob_one_defect = binom.pmf(k=1, n=50, p=0.02)\r\n",
        "print(prob_one_defect)\r\n",
        "\r\n",
        "# Probability of not getting any defective components\r\n",
        "prob_no_defects = binom.pmf(k=0, n=50, p=0.02)\r\n",
        "print(prob_no_defects)\r\n",
        "\r\n",
        "# Probability of getting 2 or less defective components\r\n",
        "prob_two_or_less_defects = binom.cdf(k=2, n=50, p=0.02)\r\n",
        "print(prob_two_or_less_defects)\r\n"
      ],
      "execution_count": 10,
      "outputs": [
        {
          "output_type": "stream",
          "text": [
            "0.37160171437461204\n",
            "0.3641696800871171\n",
            "0.9215722516490308\n"
          ],
          "name": "stdout"
        }
      ]
    },
    {
      "cell_type": "markdown",
      "metadata": {
        "id": "KkFKQ3nwyjeN"
      },
      "source": [
        "**Expected Value & Variance**"
      ]
    },
    {
      "cell_type": "code",
      "metadata": {
        "colab": {
          "base_uri": "https://localhost:8080/"
        },
        "id": "q1OBOQ5dypSc",
        "outputId": "b4d6027b-f3ac-464d-c07e-d857dd144584"
      },
      "source": [
        "from scipy.stats import describe\r\n",
        "# Sample mean from a generated sample of 100 fair coin flips\r\n",
        "sample_of_100_flips = binom.rvs(n=1, p=0.50, size=100)\r\n",
        "sample_mean_100_flips = describe(sample_of_100_flips).mean\r\n",
        "print(sample_mean_100_flips)\r\n",
        "\r\n",
        "# Sample mean from a generated sample of 1,000 fair coin flips\r\n",
        "sample_mean_1000_flips = describe(binom.rvs(n=1, p=0.5, size=1000)).mean\r\n",
        "print(sample_mean_1000_flips)\r\n",
        "\r\n",
        "# Sample mean from a generated sample of 2,000 fair coin flips\r\n",
        "sample_mean_2000_flips = describe(binom.rvs(n=1, p=0.5, size=2000)).mean\r\n",
        "print(sample_mean_2000_flips)\r\n",
        "\r\n",
        "sample = binom.rvs(n=10, p=0.3, size=2000)\r\n",
        "\r\n",
        "# Calculate the sample mean and variance from the sample variable\r\n",
        "sample_describe = describe(sample)\r\n",
        "\r\n",
        "# Calculate the sample mean using the values of n and p\r\n",
        "mean = 10*0.3\r\n",
        "\r\n",
        "# Calculate the sample variance using the value of 1-p\r\n",
        "variance = mean*0.7\r\n",
        "\r\n",
        "# Calculate the sample mean and variance for 10 coin flips with p=0.3\r\n",
        "binom_stats = binom.stats(n=10, p=0.3)\r\n",
        "\r\n",
        "print(sample_describe.mean, sample_describe.variance, mean, variance, binom_stats)"
      ],
      "execution_count": 15,
      "outputs": [
        {
          "output_type": "stream",
          "text": [
            "0.53\n",
            "0.486\n",
            "0.4875\n",
            "2.941 1.9484932466233116 3.0 2.0999999999999996 (array(3.), array(2.1))\n"
          ],
          "name": "stdout"
        }
      ]
    },
    {
      "cell_type": "code",
      "metadata": {
        "colab": {
          "base_uri": "https://localhost:8080/"
        },
        "id": "KwPAx7f90dp1",
        "outputId": "7f92f34c-67c3-41b6-e5ad-6a1078be9369"
      },
      "source": [
        "averages=[]\r\n",
        "variances=[]\r\n",
        "for i in range(0, 1500):\r\n",
        "    # 10 trials of 10 coin flips with 25% probability of heads\r\n",
        "    sample = binom.rvs(n=10, p=0.25, size=10)\r\n",
        "    # Mean and variance of the values in the sample variable\r\n",
        "    averages.append(describe(sample).mean)\r\n",
        "    variances.append(describe(sample).variance)\r\n",
        "\r\n",
        "# Calculate the mean of the averages variable\r\n",
        "print(\"Mean {}\".format(describe(averages).mean))\r\n",
        "\r\n",
        "# Calculate the mean of the variances variable\r\n",
        "print(\"Variance {}\".format(describe(variances).mean))\r\n",
        "\r\n",
        "#Theoretical mean \r\n",
        "# Calculate the mean and variance\r\n",
        "print(binom.stats(n=10, p=0.25))"
      ],
      "execution_count": 18,
      "outputs": [
        {
          "output_type": "stream",
          "text": [
            "Mean 2.4843333333333333\n",
            "Variance 1.8509111111111112\n",
            "(array(2.5), array(1.875))\n"
          ],
          "name": "stdout"
        }
      ]
    },
    {
      "cell_type": "markdown",
      "metadata": {
        "id": "moVeoS8L48C-"
      },
      "source": [
        "**Calculating Probabilities (join, independence, interesection, conditional)**"
      ]
    },
    {
      "cell_type": "code",
      "metadata": {
        "colab": {
          "base_uri": "https://localhost:8080/"
        },
        "id": "4GeRSjXl5Czz",
        "outputId": "4b6dbb2d-7a6a-4428-d1e2-15e82a7b3a0d"
      },
      "source": [
        "# Individual probabilities\r\n",
        "P_Eng_works = 0.99\r\n",
        "P_GearB_works = 0.995\r\n",
        "\r\n",
        "# Joint probability calculation\r\n",
        "P_both_works = P_Eng_works*P_GearB_works\r\n",
        "\r\n",
        "print(P_both_works)\r\n",
        "\r\n",
        "# Individual probabilities\r\n",
        "P_Eng_fails = 0.01\r\n",
        "P_Eng_works = 0.99\r\n",
        "P_GearB_fails = 0.005\r\n",
        "P_GearB_works = 0.995\r\n",
        "\r\n",
        "# Joint probability calculation\r\n",
        "P_only_GearB_fails = P_GearB_fails*P_Eng_works\r\n",
        "P_only_Eng_fails = P_Eng_fails*P_GearB_works\r\n",
        "\r\n",
        "# Calculate result\r\n",
        "P_one_fails = P_only_GearB_fails+P_only_Eng_fails\r\n",
        "\r\n",
        "print(P_one_fails)\r\n",
        "\r\n",
        "# Individual probabilities\r\n",
        "P_Eng_fails = 0.01\r\n",
        "P_Eng_works = 0.99\r\n",
        "P_GearB_fails = 0.005\r\n",
        "P_GearB_works = 0.995\r\n",
        "\r\n",
        "# Joint probability calculation\r\n",
        "P_EngW_GearBW = P_Eng_works*P_GearB_works\r\n",
        "P_EngF_GearBF = P_Eng_fails*P_GearB_fails\r\n",
        "\r\n",
        "# Calculate result\r\n",
        "P_fails_or_works = P_EngW_GearBW+P_EngF_GearBF\r\n",
        "\r\n",
        "print(P_fails_or_works)"
      ],
      "execution_count": 19,
      "outputs": [
        {
          "output_type": "stream",
          "text": [
            "0.98505\n",
            "0.0149\n",
            "0.9851\n"
          ],
          "name": "stdout"
        }
      ]
    },
    {
      "cell_type": "code",
      "metadata": {
        "colab": {
          "base_uri": "https://localhost:8080/"
        },
        "id": "os0KAi039WwF",
        "outputId": "3fa3a345-38fb-4f7d-a6f1-2440782bf113"
      },
      "source": [
        "# Ace probability\r\n",
        "P_Ace = 4/52\r\n",
        "\r\n",
        "# Not Ace probability\r\n",
        "P_not_Ace = 1 - P_Ace\r\n",
        "\r\n",
        "print(P_not_Ace)\r\n",
        "\r\n",
        "# Figure probabilities\r\n",
        "P_Hearts = 13/52\r\n",
        "P_Diamonds = 13/52\r\n",
        "\r\n",
        "# Probability of red calculation\r\n",
        "P_Red = P_Hearts + P_Diamonds\r\n",
        "\r\n",
        "print(P_Red)\r\n",
        "\r\n",
        "# Figure probabilities\r\n",
        "P_Jack = 4/52\r\n",
        "P_Spade = 13/52\r\n",
        "\r\n",
        "# Joint probability\r\n",
        "P_Jack_n_Spade = 1/52\r\n",
        "\r\n",
        "# Probability of Jack or spade\r\n",
        "P_Jack_or_Spade = P_Jack + P_Spade - P_Jack_n_Spade\r\n",
        "\r\n",
        "print(P_Jack_or_Spade)\r\n",
        "# Figure probabilities\r\n",
        "P_King = 4/52\r\n",
        "P_Queen = 4/52\r\n",
        "\r\n",
        "# Joint probability\r\n",
        "P_King_n_Queen = 0\r\n",
        "\r\n",
        "# Probability of King or Queen\r\n",
        "P_King_or_Queen = P_King + P_Queen - P_King_n_Queen\r\n",
        "\r\n",
        "print(P_King_or_Queen)"
      ],
      "execution_count": 21,
      "outputs": [
        {
          "output_type": "stream",
          "text": [
            "0.9230769230769231\n",
            "0.5\n",
            "0.3076923076923077\n",
            "0.15384615384615385\n"
          ],
          "name": "stdout"
        }
      ]
    },
    {
      "cell_type": "code",
      "metadata": {
        "id": "Hc9rtF0s_YSv"
      },
      "source": [
        "# Needed quantities\r\n",
        "Delayed_on_Friday = 11\r\n",
        "On_Friday = 138\r\n",
        "\r\n",
        "# Probability calculation\r\n",
        "P_Delayed_g_Friday = Delayed_on_Friday / On_Friday\r\n",
        "\r\n",
        "print(P_Delayed_g_Friday)\r\n"
      ],
      "execution_count": null,
      "outputs": []
    },
    {
      "cell_type": "markdown",
      "metadata": {
        "id": "tGjFXdmwDUdo"
      },
      "source": [
        "**Total Probability Law**\r\n",
        "Formula 1 engines\r\n",
        "\r\n",
        "Suppose that two manufacturers, A and B, supply the engines for Formula 1 racing cars, with the following characteristics:\r\n",
        "\r\n",
        "    99% of the engines from factory A last more than 5,000 km.\r\n",
        "    Factory B manufactures engines that last more than 5,000 km with 95% probability.\r\n",
        "    70% of the engines are from manufacturer A, and the rest are produced by manufacturer B.\r\n",
        "\r\n",
        "What is the chance that an engine will last more than 5,000 km?"
      ]
    },
    {
      "cell_type": "code",
      "metadata": {
        "colab": {
          "base_uri": "https://localhost:8080/"
        },
        "id": "gZL66H-mDYFv",
        "outputId": "8293e51b-d8ab-4b6b-d591-249dcff7c0f9"
      },
      "source": [
        "# Needed probabilities\r\n",
        "P_A = 0.7\r\n",
        "P_last5000_g_A = 0.99\r\n",
        "P_B = 0.3\r\n",
        "P_last5000_g_B = 0.95\r\n",
        "\r\n",
        "# Total probability calculation\r\n",
        "P_last_5000 = P_A*P_last5000_g_A+P_B*P_last5000_g_B\r\n",
        "\r\n",
        "print(P_last_5000)"
      ],
      "execution_count": 22,
      "outputs": [
        {
          "output_type": "stream",
          "text": [
            "0.978\n"
          ],
          "name": "stdout"
        }
      ]
    },
    {
      "cell_type": "markdown",
      "metadata": {
        "id": "XyCunp_EFyKw"
      },
      "source": [
        "Voters\r\n",
        "\r\n",
        "Of the total population of three states X, Y, and Z, 43% are from state X, 25% are from state Y, and 32% are from state Z. A poll is taken and the result is the following:\r\n",
        "\r\n",
        "    53% of the voters support John Doe in state X.\r\n",
        "    67% of the voters support John Doe in state Y.\r\n",
        "    32% of the voters support John Doe in state Z.\r\n",
        "\r\n",
        "1. Given that a voter supports John Doe, answer the following questions.\r\n",
        "What is the probability that the voter lives in state X and supports John Doe?\r\n"
      ]
    },
    {
      "cell_type": "code",
      "metadata": {
        "colab": {
          "base_uri": "https://localhost:8080/"
        },
        "id": "vhhuFU-6FvFR",
        "outputId": "0029a5e5-11b0-4825-f2f0-9ff94a591665"
      },
      "source": [
        "# Individual probabilities\r\n",
        "P_X = 0.43\r\n",
        "\r\n",
        "# Conditional probabilities\r\n",
        "P_Support_g_X = 0.53\r\n",
        "\r\n",
        "# Total probability calculation\r\n",
        "P_X_n_Support = P_X * P_Support_g_X\r\n",
        "print(P_X_n_Support)"
      ],
      "execution_count": 24,
      "outputs": [
        {
          "output_type": "stream",
          "text": [
            "0.22790000000000002\n"
          ],
          "name": "stdout"
        }
      ]
    },
    {
      "cell_type": "markdown",
      "metadata": {
        "id": "OjXeyqpQGCfG"
      },
      "source": [
        "2. What is the probability that the voter lives in state Z and does not support John Doe?"
      ]
    },
    {
      "cell_type": "code",
      "metadata": {
        "colab": {
          "base_uri": "https://localhost:8080/"
        },
        "id": "bCe3vWboGEGl",
        "outputId": "ac088ba9-ab8d-4818-a29b-726b6d84ed00"
      },
      "source": [
        "# Individual probabilities\r\n",
        "P_Z = 0.32\r\n",
        "\r\n",
        "# Conditional probabilities\r\n",
        "P_Support_g_Z = 0.32\r\n",
        "P_NoSupport_g_Z = 1 - P_Support_g_Z\r\n",
        "\r\n",
        "# Total probability calculation\r\n",
        "P_Z_n_NoSupport = P_Z * P_NoSupport_g_Z\r\n",
        "print(P_Z_n_NoSupport)"
      ],
      "execution_count": 23,
      "outputs": [
        {
          "output_type": "stream",
          "text": [
            "0.2176\n"
          ],
          "name": "stdout"
        }
      ]
    },
    {
      "cell_type": "markdown",
      "metadata": {
        "id": "zojQz6UNGEgU"
      },
      "source": [
        "\r\n",
        "3. What is the total percentage of voters that support John Doe?"
      ]
    },
    {
      "cell_type": "code",
      "metadata": {
        "colab": {
          "base_uri": "https://localhost:8080/"
        },
        "id": "Tj7HQRvBGFDy",
        "outputId": "68123769-8641-4174-b5a9-4af519b4ff8d"
      },
      "source": [
        "# Individual probabilities\r\n",
        "P_X = 0.43\r\n",
        "P_Y = 0.25\r\n",
        "P_Z = 0.32\r\n",
        "\r\n",
        "# Conditional probabilities\r\n",
        "P_Support_g_X = 0.53\r\n",
        "P_Support_g_Y = 0.67\r\n",
        "P_Support_g_Z = 0.32\r\n",
        "\r\n",
        "# Total probability calculation\r\n",
        "P_Support = P_X * P_Support_g_X + P_Y * P_Support_g_Y + P_Z * P_Support_g_Z\r\n",
        "print(P_Support)"
      ],
      "execution_count": 25,
      "outputs": [
        {
          "output_type": "stream",
          "text": [
            "0.4978\n"
          ],
          "name": "stdout"
        }
      ]
    },
    {
      "cell_type": "markdown",
      "metadata": {
        "id": "6LHrTFgzGngr"
      },
      "source": [
        "**Bayes Rule**\r\n",
        "Why is Bayes' rule important?\r\n",
        "It allows you to calculate conditional probabilities for events that can be partitions in nonoverlapping parts.\r\n",
        "\r\n",
        "*independent*\r\n",
        "P(A and B) = P(A)P(B)\r\n",
        "\r\n",
        "*dependent*\r\n",
        "P(A and B)  = P(A)P(B|A)\r\n",
        "\r\n",
        "P(A)P(B|A)= P(B)P(A|B)\r\n",
        "\r\n",
        "P(A|B)= P(A)P(B|A)/ P(B)"
      ]
    },
    {
      "cell_type": "markdown",
      "metadata": {
        "id": "JX07O26VE_-J"
      },
      "source": [
        "Factories and parts\r\n",
        "\r\n",
        "A certain electronic part is manufactured by three different vendors named V1, V2, and V3.\r\n",
        "\r\n",
        "Half of the parts are produced by V1, 25% by V2, and the rest by V3. The probability of a part being damaged given that it was produced by V1 is 1%, while it's 2% for V2 and 3% for V3.\r\n",
        "\r\n",
        "If a part taken at random is damaged, answer the following questions.\r\n",
        "Instructions 2/3\r\n",
        "35 XP\r\n",
        "\r\n",
        "    What is the probability that the part was manufactured by V1?"
      ]
    },
    {
      "cell_type": "code",
      "metadata": {
        "colab": {
          "base_uri": "https://localhost:8080/"
        },
        "id": "NYdwxbZkGpxK",
        "outputId": "d728d636-a23c-4a88-9684-b4b7a7f3e5ba"
      },
      "source": [
        "# Individual probabilities & conditional probabilities\r\n",
        "P_V1 = 0.5\r\n",
        "P_V2 = 0.25\r\n",
        "P_V3 = 0.25\r\n",
        "P_D_g_V1 = 0.01\r\n",
        "P_D_g_V2 = 0.02\r\n",
        "P_D_g_V3 = 0.03\r\n",
        "\r\n",
        "# Probability of Damaged\r\n",
        "P_Damaged = (P_V1 * P_D_g_V1)+ ( P_V2* P_D_g_V2) + (P_V3 * P_D_g_V3)\r\n",
        "\r\n",
        "# Bayes' rule for P(V1|D)\r\n",
        "P_V1_g_D = (P_V1 * P_D_g_V1) / P_Damaged\r\n",
        "\r\n",
        "print(P_V1_g_D)"
      ],
      "execution_count": 1,
      "outputs": [
        {
          "output_type": "stream",
          "text": [
            "0.2857142857142857\n"
          ],
          "name": "stdout"
        }
      ]
    },
    {
      "cell_type": "markdown",
      "metadata": {
        "id": "h80Omax4HpVO"
      },
      "source": [
        "Swine flu blood test\r\n",
        "\r\n",
        "You go to the doctor about a strong headache. The doctor randomly selects you for a blood test for swine flu, which is suspected to affect 1 in 9,000 people in your city. The accuracy of the test is 99%, meaning that the probability of a false positive is 1%. The probability of a false negative is zero.\r\n",
        "\r\n",
        "Given that you test positive, answer the following questions.\r\n",
        "\r\n",
        "What is the probability that you have swine flu given that your test outcome is positive?\r\n"
      ]
    },
    {
      "cell_type": "code",
      "metadata": {
        "colab": {
          "base_uri": "https://localhost:8080/"
        },
        "id": "eP4DH7JQHu8d",
        "outputId": "a3cde575-7c2f-4828-cd0f-1958917a40bc"
      },
      "source": [
        "# Probability of having Swine_flu\r\n",
        "P_Swine_flu = 1./9000\r\n",
        "\r\n",
        "# Probability of not having Swine_flu\r\n",
        "P_no_Swine_flu = 1 - P_Swine_flu\r\n",
        "\r\n",
        "# Probability of being positive given that you have Swine_flu\r\n",
        "P_Positive_g_Swine_flu = 1\r\n",
        "\r\n",
        "# Probability of being positive given that you do not have Swine_flu\r\n",
        "P_Positive_g_no_Swine_flu = 0.01\r\n",
        "\r\n",
        "# Probability of Positive\r\n",
        "P_Positive = (P_Swine_flu * P_Positive_g_Swine_flu) + (P_no_Swine_flu * P_Positive_g_no_Swine_flu)\r\n",
        "\r\n",
        "# Bayes' rule for P(Swine_flu|Positive)\r\n",
        "P_Swine_flu_g_Positive = (P_Swine_flu * P_Positive_g_Swine_flu) / P_Positive\r\n",
        "\r\n",
        "print(P_Swine_flu_g_Positive)"
      ],
      "execution_count": 2,
      "outputs": [
        {
          "output_type": "stream",
          "text": [
            "0.010990218705352238\n"
          ],
          "name": "stdout"
        }
      ]
    },
    {
      "cell_type": "markdown",
      "metadata": {
        "id": "vtQXbyJXaDTW"
      },
      "source": [
        "Swine flu blood test\r\n",
        "\r\n",
        "You go to the doctor about a strong headache. The doctor randomly selects you for a blood test for swine flu, which is suspected to affect 1 in 9,000 people in your city. The accuracy of the test is 99%, meaning that the probability of a false positive is 1%. The probability of a false negative is zero.\r\n",
        "\r\n",
        "Given that you test positive, answer the following questions.\r\n",
        "Instructions 1/3\r\n",
        "35 XP\r\n",
        "\r\n",
        "    What is the probability that you have swine flu given that your test outcome is positive?"
      ]
    },
    {
      "cell_type": "code",
      "metadata": {
        "colab": {
          "base_uri": "https://localhost:8080/"
        },
        "id": "pPhzM314aBRj",
        "outputId": "a964848a-58dd-42a7-e46b-e8e71f1532bd"
      },
      "source": [
        "# Probability of having Swine_flu\r\n",
        "P_Swine_flu = 1./9000\r\n",
        "\r\n",
        "# Probability of not having Swine_flu\r\n",
        "P_no_Swine_flu = 1 - P_Swine_flu\r\n",
        "\r\n",
        "# Probability of being positive given that you have Swine_flu\r\n",
        "P_Positive_g_Swine_flu = 1\r\n",
        "\r\n",
        "# Probability of being positive given that you do not have Swine_flu\r\n",
        "P_Positive_g_no_Swine_flu = 0.01\r\n",
        "\r\n",
        "# Probability of Positive\r\n",
        "P_Positive = (P_Swine_flu * P_Positive_g_Swine_flu) + (P_no_Swine_flu * P_Positive_g_no_Swine_flu)\r\n",
        "\r\n",
        "# Bayes' rule for P(Swine_flu|Positive)\r\n",
        "P_Swine_flu_g_Positive = (P_Swine_flu * P_Positive_g_Swine_flu) / P_Positive\r\n",
        "\r\n",
        "print(P_Swine_flu_g_Positive)"
      ],
      "execution_count": 3,
      "outputs": [
        {
          "output_type": "stream",
          "text": [
            "0.010990218705352238\n"
          ],
          "name": "stdout"
        }
      ]
    },
    {
      "cell_type": "markdown",
      "metadata": {
        "id": "AekItNOTp68d"
      },
      "source": [
        "**Law of Large Numbers**\r\n",
        "As we increase the sample size, the sample mean approaches the expected value. \r\n",
        "\r\n",
        "**Central Limit Theorem**\r\n",
        "\r\n",
        "Taking sample means from an repeated samples from an unkown distribution will yield a normal distribution of the sample means."
      ]
    }
  ]
}